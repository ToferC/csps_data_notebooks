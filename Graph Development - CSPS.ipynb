{
 "cells": [
  {
   "cell_type": "markdown",
   "metadata": {},
   "source": [
    "# Graph Development CSPS\n",
    "Using datasets pulled by Sam and co for the Data Explorer"
   ]
  },
  {
   "cell_type": "code",
   "execution_count": null,
   "metadata": {},
   "outputs": [],
   "source": [
    "import pandas as pd\n",
    "import numpy as np\n",
    "from datetime import datetime\n",
    "import matplotlib.pyplot as plt\n",
    "import os\n",
    "import warnings\n",
    "import networkx as nx\n",
    "\n",
    "data_dir = \"~/data/csps/\"\n",
    "\n",
    "warnings.filterwarnings('ignore')\n",
    "\n",
    "%load_ext autoreload\n",
    "%autoreload 2\n",
    "%matplotlib inline\n",
    "%config InlineBackend.figure_format = 'retina'\n"
   ]
  },
  {
   "cell_type": "code",
   "execution_count": null,
   "metadata": {},
   "outputs": [],
   "source": []
  },
  {
   "cell_type": "markdown",
   "metadata": {},
   "source": [
    "## Offerings\n",
    "* Have course title\n",
    "* offering ID\n",
    "* Course code\n",
    "* Delivery status\n",
    "* Region\n",
    "* City\n",
    "\n",
    "**Recommendation: Combine with Product info and registrations**"
   ]
  },
  {
   "cell_type": "code",
   "execution_count": null,
   "metadata": {},
   "outputs": [],
   "source": [
    "df = pd.read_csv(\"Offerings.csv\", sep=None)"
   ]
  },
  {
   "cell_type": "code",
   "execution_count": null,
   "metadata": {},
   "outputs": [],
   "source": [
    "df.head()"
   ]
  },
  {
   "cell_type": "code",
   "execution_count": null,
   "metadata": {},
   "outputs": [],
   "source": [
    "deps = pd.read_csv(\"Departments.csv\", sep=None)"
   ]
  },
  {
   "cell_type": "code",
   "execution_count": null,
   "metadata": {},
   "outputs": [],
   "source": [
    "deps.head()"
   ]
  },
  {
   "cell_type": "markdown",
   "metadata": {},
   "source": [
    "## Product Info\n",
    "* Some good info here - communities, business line\n",
    "* Missing title, but can use dictionary with course code and offerings\n",
    "* **Can use entity extraction on course_description_en**\n",
    "[link](https://github.com/ToferC/sqlalchemy_gctools/blob/master/Content%20Analysis/SQLAlchemy%20GCconnex%20Classifier%20-%20April%202017.ipynb)"
   ]
  },
  {
   "cell_type": "code",
   "execution_count": null,
   "metadata": {},
   "outputs": [],
   "source": [
    "prod = pd.read_csv(\"product_info.csv\", sep=None)"
   ]
  },
  {
   "cell_type": "code",
   "execution_count": null,
   "metadata": {},
   "outputs": [],
   "source": [
    "prod.head(5)"
   ]
  },
  {
   "cell_type": "code",
   "execution_count": null,
   "metadata": {},
   "outputs": [],
   "source": [
    "prod.loc[4][\"course_description_en\"]"
   ]
  },
  {
   "cell_type": "markdown",
   "metadata": {},
   "source": [
    "## Ratings\n",
    "* Tied to offering ID\n",
    "* NOT tied to registration ID\n",
    "* Separate survey ID\n",
    "* Learner classification\n",
    "* Learner department\n",
    "* Satisfaction (1-5)\n",
    "* **Can link to offering ID in registrations**"
   ]
  },
  {
   "cell_type": "code",
   "execution_count": null,
   "metadata": {},
   "outputs": [],
   "source": [
    "ratings = pd.read_csv(\"Ratings.csv\", sep=None)"
   ]
  },
  {
   "cell_type": "code",
   "execution_count": null,
   "metadata": {},
   "outputs": [],
   "source": [
    "ratings.head()"
   ]
  },
  {
   "cell_type": "markdown",
   "metadata": {},
   "source": [
    "## Overall Satisfaction\n",
    "* Survey ID to 10pt satisfaction scale\n",
    "* Can get survey ID from ratings"
   ]
  },
  {
   "cell_type": "code",
   "execution_count": null,
   "metadata": {},
   "outputs": [],
   "source": [
    "satisf = pd.read_csv(\"Overall Satisfaction.csv\", sep=None)"
   ]
  },
  {
   "cell_type": "code",
   "execution_count": null,
   "metadata": {},
   "outputs": [],
   "source": [
    "satisf.head()"
   ]
  },
  {
   "cell_type": "markdown",
   "metadata": {},
   "source": [
    "## Comments\n",
    "* Separate row per comment (multiple possible on a survey ID)\n",
    "* Should have datetime for comments\n",
    "* Easy to aggregate for course"
   ]
  },
  {
   "cell_type": "code",
   "execution_count": null,
   "metadata": {},
   "outputs": [],
   "source": [
    "comments = pd.read_csv(\"Comments.csv\", sep=None)"
   ]
  },
  {
   "cell_type": "code",
   "execution_count": null,
   "metadata": {},
   "outputs": [],
   "source": [
    "grouped_comments = comments.groupby(comments.survey_id)"
   ]
  },
  {
   "cell_type": "code",
   "execution_count": null,
   "metadata": {},
   "outputs": [],
   "source": [
    "grouped_comments.head()"
   ]
  },
  {
   "cell_type": "markdown",
   "metadata": {},
   "source": [
    "## Registrations\n",
    "* This is gold\n",
    "* Core info on what our users are doing\n",
    "* Need to pair with evaluation data\n",
    "* Time series\n",
    "* Departmental data\n",
    "* Language\n",
    "* Classification & Level (separate these)\n",
    "* Big enough for ML model\n",
    "* Need data on whether learner attended or completed learning\n",
    "* Some strangeness in combining online * in-person -- consider separating"
   ]
  },
  {
   "cell_type": "code",
   "execution_count": null,
   "metadata": {},
   "outputs": [],
   "source": [
    "reg = pd.read_csv(\"Registrations.csv\", sep=None)"
   ]
  },
  {
   "cell_type": "code",
   "execution_count": null,
   "metadata": {},
   "outputs": [],
   "source": [
    "reg.head()"
   ]
  },
  {
   "cell_type": "code",
   "execution_count": null,
   "metadata": {},
   "outputs": [],
   "source": [
    "courses = reg.groupby(reg.course_code).count()"
   ]
  },
  {
   "cell_type": "code",
   "execution_count": null,
   "metadata": {},
   "outputs": [],
   "source": [
    "courses.head()"
   ]
  },
  {
   "cell_type": "markdown",
   "metadata": {},
   "source": [
    "### Look at columns"
   ]
  },
  {
   "cell_type": "code",
   "execution_count": null,
   "metadata": {},
   "outputs": [],
   "source": [
    "i = 0\n",
    "\n",
    "for c in reg.columns:\n",
    "    print(i, c)\n",
    "    i+=1"
   ]
  },
  {
   "cell_type": "markdown",
   "metadata": {},
   "source": [
    "\n",
    "Thinking here:\n",
    "\n",
    "* learners are nodes {learner_id = 0, learner-classif, learner_language}\n",
    "* departments are nodes {billing_dept_name_en}\n",
    "* courses are nodes - display course name - data = course code, business type, learner_city_en\n",
    "* edge == took {learner -> course } {start_date, end_date, reg_status, no_show}\n",
    "* edge == belongs_to { learner -> department }\n",
    "* We should have registration ID tied to the ratings & comments\n",
    "* Missing data on results of learning - did they complete?\n",
    "* Probably separate online & in-person learning\n"
   ]
  },
  {
   "cell_type": "markdown",
   "metadata": {},
   "source": [
    "## Set up helper functions"
   ]
  },
  {
   "cell_type": "markdown",
   "metadata": {},
   "source": [
    "This graph will separate all learner functions to mirror a graph database\n",
    "\n",
    "* Potential here: track group, class, level by learner at every interaction with our system\n",
    "* We should have a 6 month update questionnaire\n",
    "    \n",
    "We should be connecting:\n",
    "    \n",
    "* learner_id -> department (date)\n",
    "* learner -> classification (date)\n",
    "* learner -> level (date)\n",
    "* learner -> registration (registration_id) (date, reg_status)\n",
    "* learner -> city (date)\n",
    "* learner -> province_en (date)\n",
    "* registration_id -> offering (offering_id)\n",
    "* offering -> course (course_code, course_name_en)\n",
    "* province -> city"
   ]
  },
  {
   "cell_type": "markdown",
   "metadata": {},
   "source": [
    "### Add Learner"
   ]
  },
  {
   "cell_type": "code",
   "execution_count": null,
   "metadata": {},
   "outputs": [],
   "source": [
    "# Add individual learner node\n",
    "def learner_add_or_update(G, row):\n",
    "    \n",
    "    # Learner node\n",
    "    if G.has_node(row.learner_id):\n",
    "        G.nodes[row.learner_id][\"count\"] += 1\n",
    "        G.nodes[row.learner_id][\"no_show\"] += row.no_show\n",
    "        \n",
    "    else:\n",
    "        # Add Learner node\n",
    "        G.add_node(\n",
    "            row.learner_id,\n",
    "            name=row.learner_classif, \n",
    "            bipartite=\"learner\",\n",
    "            province=row.learner_province_en,\n",
    "            no_show=row.no_show,\n",
    "            department=row.billing_dept_name_en,\n",
    "            count=1)"
   ]
  },
  {
   "cell_type": "markdown",
   "metadata": {},
   "source": [
    "### Add Department"
   ]
  },
  {
   "cell_type": "code",
   "execution_count": null,
   "metadata": {},
   "outputs": [],
   "source": [
    "def department_add_or_update(G, row):\n",
    "    # Department node\n",
    "    if G.has_node(row.billing_dept_name_en):\n",
    "        G.nodes[row.billing_dept_name_en][\"count\"] += 1\n",
    "        G.nodes[row.billing_dept_name_en][\"no_show\"] += row.no_show\n",
    "    else:\n",
    "        G.add_node(\n",
    "            row.billing_dept_name_en, \n",
    "            name=row.billing_dept_name_en, \n",
    "            bipartite=\"department\",\n",
    "            count=1,\n",
    "            no_show=row.no_show)"
   ]
  },
  {
   "cell_type": "markdown",
   "metadata": {},
   "source": [
    "### Add Course"
   ]
  },
  {
   "cell_type": "code",
   "execution_count": null,
   "metadata": {},
   "outputs": [],
   "source": [
    "def course_add_or_update(G, row):\n",
    "    # Course node - separate registrations update count\n",
    "    # Tracks number of offerings by ID and total count\n",
    "    if G.has_node(row.course_title_en):\n",
    "        G.nodes[row.course_title_en][\"count\"] += 1\n",
    "\n",
    "    else:\n",
    "        G.add_node(\n",
    "            row.course_title_en,\n",
    "            business_type=row.business_type,\n",
    "            client=row.client,\n",
    "            course_code=row.course_code,\n",
    "            bipartite=\"course\",\n",
    "            count=1)"
   ]
  },
  {
   "cell_type": "markdown",
   "metadata": {},
   "source": [
    "### Add Registration"
   ]
  },
  {
   "cell_type": "code",
   "execution_count": null,
   "metadata": {},
   "outputs": [],
   "source": [
    "def registration_add_or_update(G, row):\n",
    "    # Offering node - separate registrations update count\n",
    "    # May have multiple offerings for a single course tracked as separate nodes\n",
    "    if G.has_node(row.reg_id):\n",
    "        G.nodes[row.reg_id][\"count\"] += 1\n",
    "\n",
    "    else:\n",
    "        G.add_node(\n",
    "            row.reg_id,\n",
    "            bipartite=\"registration\",\n",
    "            count=1)"
   ]
  },
  {
   "cell_type": "markdown",
   "metadata": {},
   "source": [
    "### Add Offering"
   ]
  },
  {
   "cell_type": "code",
   "execution_count": null,
   "metadata": {},
   "outputs": [],
   "source": [
    "def offering_add_or_update(G, row):\n",
    "    # Offering node - separate registrations update count\n",
    "    # May have multiple offerings for a single course tracked as separate nodes\n",
    "    if G.has_node(row.offering_id):\n",
    "        G.nodes[row.offering_id][\"count\"] += 1\n",
    "        G.nodes[row.offering_id][\"no_show\"] += row.no_show\n",
    "\n",
    "    else:\n",
    "        G.add_node(\n",
    "            row.offering_id,\n",
    "            name=row.course_title_en,\n",
    "            course_code=row.course_code,\n",
    "            city=row.offering_city_en,\n",
    "            province=row.offering_province_en,\n",
    "            business_type=row.business_type,\n",
    "            start_date=row.start_date, \n",
    "            end_date=row.end_date,\n",
    "            bipartite=\"offering\",\n",
    "            no_show=row.no_show,\n",
    "            count=1)"
   ]
  },
  {
   "cell_type": "markdown",
   "metadata": {},
   "source": [
    "### Add Learner to Registration Edge"
   ]
  },
  {
   "cell_type": "code",
   "execution_count": null,
   "metadata": {},
   "outputs": [],
   "source": [
    "def add_learner_to_registration_edge(G, row):\n",
    "    \n",
    "    # Learner to registration edge\n",
    "    if not G.has_edge(row.learner_id, row.reg_id):\n",
    "        # Learners registered\n",
    "        G.add_edge(\n",
    "            row.learner_id,\n",
    "            row.reg_id,\n",
    "            edge_type=\"registered_to\",\n",
    "            status=row.reg_status,\n",
    "            no_show=row.no_show,\n",
    "            start_date=row.start_date, \n",
    "            end_date=row.end_date)\n",
    "    else:\n",
    "        G.edges[row.learner_id, row.reg_id][\"no_show\"]+=row.no_show"
   ]
  },
  {
   "cell_type": "code",
   "execution_count": null,
   "metadata": {},
   "outputs": [],
   "source": []
  },
  {
   "cell_type": "markdown",
   "metadata": {},
   "source": [
    "### Add Registration to Offering Edge"
   ]
  },
  {
   "cell_type": "code",
   "execution_count": null,
   "metadata": {},
   "outputs": [],
   "source": [
    "def add_registration_to_offering_edge(G, row):\n",
    "    \n",
    "    # Registration to Course edge\n",
    "    if not G.has_edge(row.reg_id, row.offering_id):\n",
    "        # Registration took courses\n",
    "        G.add_edge(\n",
    "            row.reg_id,\n",
    "            row.offering_id,\n",
    "            edge_type=\"reg_to_offering\",\n",
    "            status=row.reg_status,\n",
    "            no_show=row.no_show,\n",
    "            start_date=row.start_date, \n",
    "            end_date=row.end_date)\n",
    "    else:\n",
    "        G.edges[row.reg_id, row.offering_id][\"no_show\"]+=row.no_show"
   ]
  },
  {
   "cell_type": "markdown",
   "metadata": {},
   "source": [
    "## Add Offering to Course Edge"
   ]
  },
  {
   "cell_type": "code",
   "execution_count": null,
   "metadata": {},
   "outputs": [],
   "source": [
    "def add_offering_to_course_edge(G, row):\n",
    "    \n",
    "    # Offering to Course edge\n",
    "    if not G.has_edge(row.offering_id, row.course_title_en):\n",
    "        # Learners took courses\n",
    "        G.add_edge(\n",
    "            row.offering_id,\n",
    "            row.course_title_en,\n",
    "            city=row.offering_city_en,\n",
    "            province=row.learner_province_en,\n",
    "            edge_type=\"offering_of\")"
   ]
  },
  {
   "cell_type": "markdown",
   "metadata": {},
   "source": [
    "### Add Learner to Department Edge"
   ]
  },
  {
   "cell_type": "code",
   "execution_count": null,
   "metadata": {},
   "outputs": [],
   "source": [
    "def add_learner_to_department_edge(G, row):\n",
    "    # Learner to department edge\n",
    "    if not G.has_edge(row.learner_id, row.billing_dept_name_en):\n",
    "        # Learners belong to departments\n",
    "        G.add_edge(\n",
    "            row.learner_id,\n",
    "            row.billing_dept_name_en,\n",
    "            edge_type=\"belongs_to\",\n",
    "            start_date=row.start_date,\n",
    "            end_date=row.end_date)"
   ]
  },
  {
   "cell_type": "markdown",
   "metadata": {},
   "source": [
    "### Add additional data nodes & edges"
   ]
  },
  {
   "cell_type": "code",
   "execution_count": null,
   "metadata": {},
   "outputs": [],
   "source": [
    "def add_data_nodes(G, row):\n",
    "    \n",
    "    learner_id = row.learner_id\n",
    "            \n",
    "    classification = row.learner_classif.replace(\" \", \"\")\n",
    "        \n",
    "    province = row.learner_province_en\n",
    "    \n",
    "    city = row.offering_city_en\n",
    "    \n",
    "    if not G.has_node(city):\n",
    "        G.add_node(city, bipartite=\"city\")\n",
    "        \n",
    "    if not G.has_node(province):\n",
    "        G.add_node(province, bipartite=\"province\")\n",
    "        \n",
    "    if not G.has_node(classification):\n",
    "        G.add_node(classification, bipartite=\"classification\")\n",
    "\n",
    "    # Add edges not covered below\n",
    "    G.add_edge(learner_id, classification, edge_type=\"of_classification\", start_date=row.start_date, end_date=row.end_date)\n",
    "    G.add_edge(learner_id, city, edge_type=\"in_city\", start_date=row.start_date, end_date=row.end_date)\n",
    "    G.add_edge(city, province, edge_type=\"city_in\" )\n"
   ]
  },
  {
   "cell_type": "markdown",
   "metadata": {},
   "source": [
    "### Generate Full Graph\n",
    "Generates a graph with all nodes"
   ]
  },
  {
   "cell_type": "code",
   "execution_count": null,
   "metadata": {},
   "outputs": [],
   "source": [
    "# Generate a dynamic graph with learners, departments and courses\n",
    "# Call:\n",
    "\n",
    "# generate_graph(reg, \"test_file_1\")\n",
    "\n",
    "def generate_graph(reg, filename=\"\"):\n",
    "    \n",
    "    if filename == \"\":\n",
    "        filename = f\"full_graph-{datetime.now().strftime('%y-%m-%d')}\"\n",
    "    \n",
    "    G = nx.DiGraph()\n",
    "    \n",
    "    for i, row in enumerate(reg.itertuples()):\n",
    "        \n",
    "        if i % 5 == 0:\n",
    "        \n",
    "            # Add nodes\n",
    "            learner_add_or_update(G, row)\n",
    "            department_add_or_update(G, row)\n",
    "            course_add_or_update(G, row)\n",
    "            registration_add_or_update(G, row)\n",
    "            offering_add_or_update(G, row)\n",
    "\n",
    "            # Add edges\n",
    "            add_learner_to_registration_edge(G, row)\n",
    "            add_learner_to_department_edge(G, row)\n",
    "            add_registration_to_offering_edge(G, row)\n",
    "            add_offering_to_course_edge(G, row)\n",
    "            add_data_nodes(G, row)\n",
    "        \n",
    "    nx.write_gexf(G, filename+\".gexf\")\n"
   ]
  },
  {
   "cell_type": "markdown",
   "metadata": {},
   "source": [
    "## Full Registrations Graph\n",
    "* Can do timeseries with each registration\n",
    "* Useful to have department in graphs for community detection\n",
    "* LOTS of nodes & edges"
   ]
  },
  {
   "cell_type": "code",
   "execution_count": null,
   "metadata": {},
   "outputs": [],
   "source": [
    "# Test full non-aggregated graph\n",
    "generate_graph(reg)"
   ]
  },
  {
   "cell_type": "markdown",
   "metadata": {},
   "source": [
    "## To Do\n",
    "* Create graph for offerings\n",
    "* Test graph for other options\n",
    "* Remove large graph functions below\n",
    "* Start adding in satisfaction and rating results"
   ]
  },
  {
   "cell_type": "code",
   "execution_count": null,
   "metadata": {},
   "outputs": [],
   "source": []
  },
  {
   "cell_type": "code",
   "execution_count": null,
   "metadata": {},
   "outputs": [],
   "source": []
  },
  {
   "cell_type": "code",
   "execution_count": null,
   "metadata": {},
   "outputs": [],
   "source": []
  },
  {
   "cell_type": "code",
   "execution_count": null,
   "metadata": {},
   "outputs": [],
   "source": []
  },
  {
   "cell_type": "markdown",
   "metadata": {},
   "source": [
    "## Individual dynamic no depts\n",
    "* Main difference from above is that no departments present & full dynamic setup"
   ]
  },
  {
   "cell_type": "markdown",
   "metadata": {},
   "source": [
    "### Thinking\n",
    "* Probably useful to start combining departments, classifications and add weights to edges to showcase use\n",
    "* Also issues with what happens during registration - use the registration ID as the edge uID?"
   ]
  },
  {
   "cell_type": "markdown",
   "metadata": {},
   "source": [
    "## Summary Graph\n",
    "* Combines registrations by department * classification\n",
    "* Dramatically reduces the number of nodes & edges\n",
    "* Loses a lot of granularity\n",
    "* Means that time series has low value\n",
    "* Still a lot of nodes"
   ]
  },
  {
   "cell_type": "markdown",
   "metadata": {},
   "source": [
    "## No department graph\n",
    "* As summary graph, but removes departments as nodes\n",
    "* Adds department to node attributes\n",
    "* Cleans up graph and overall weighting\n",
    "* Makes it harder to see which departments are part of which communities"
   ]
  }
 ],
 "metadata": {
  "kernelspec": {
   "display_name": "Python 3",
   "language": "python",
   "name": "python3"
  },
  "language_info": {
   "codemirror_mode": {
    "name": "ipython",
    "version": 3
   },
   "file_extension": ".py",
   "mimetype": "text/x-python",
   "name": "python",
   "nbconvert_exporter": "python",
   "pygments_lexer": "ipython3",
   "version": "3.7.3"
  }
 },
 "nbformat": 4,
 "nbformat_minor": 2
}
