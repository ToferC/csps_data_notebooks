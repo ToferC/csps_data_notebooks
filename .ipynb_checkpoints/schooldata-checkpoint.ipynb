{
 "cells": [
  {
   "cell_type": "markdown",
   "metadata": {},
   "source": [
    "# Exploration of CSPS Datasets\n",
    "Using datasets pulled by Sam and co for the Data Explorer"
   ]
  },
  {
   "cell_type": "code",
   "execution_count": null,
   "metadata": {},
   "outputs": [],
   "source": [
    "import pandas as pd\n",
    "import numpy as np\n",
    "from datetime import datetime\n",
    "import matplotlib.pyplot as plt\n",
    "import os\n",
    "import warnings\n",
    "import networkx as nx\n",
    "\n",
    "data_dir = \"~/data/csps/\"\n",
    "\n",
    "warnings.filterwarnings('ignore')\n",
    "\n",
    "%load_ext autoreload\n",
    "%autoreload 2\n",
    "%matplotlib inline\n",
    "%config InlineBackend.figure_format = 'retina'"
   ]
  },
  {
   "cell_type": "markdown",
   "metadata": {},
   "source": [
    "## Offerings\n",
    "* Have course title\n",
    "* offering ID\n",
    "* Course code\n",
    "* Delivery status\n",
    "* Region\n",
    "* City\n",
    "\n",
    "**Recommendation: Combine with Product info and registrations**"
   ]
  },
  {
   "cell_type": "code",
   "execution_count": null,
   "metadata": {},
   "outputs": [],
   "source": [
    "df = pd.read_csv(\"Offerings.csv\", sep=None)"
   ]
  },
  {
   "cell_type": "code",
   "execution_count": null,
   "metadata": {},
   "outputs": [],
   "source": [
    "df.head()"
   ]
  },
  {
   "cell_type": "code",
   "execution_count": null,
   "metadata": {},
   "outputs": [],
   "source": [
    "deps = pd.read_csv(\"Departments.csv\", sep=None)"
   ]
  },
  {
   "cell_type": "code",
   "execution_count": null,
   "metadata": {},
   "outputs": [],
   "source": [
    "deps.head()"
   ]
  },
  {
   "cell_type": "markdown",
   "metadata": {},
   "source": [
    "## Product Info\n",
    "* Some good info here - communities, business line\n",
    "* Missing title, but can use dictionary with course code and offerings\n",
    "* **Can use entity extraction on course_description_en**\n",
    "[link](https://github.com/ToferC/sqlalchemy_gctools/blob/master/Content%20Analysis/SQLAlchemy%20GCconnex%20Classifier%20-%20April%202017.ipynb)"
   ]
  },
  {
   "cell_type": "code",
   "execution_count": null,
   "metadata": {},
   "outputs": [],
   "source": [
    "prod = pd.read_csv(\"product_info.csv\", sep=None)"
   ]
  },
  {
   "cell_type": "code",
   "execution_count": null,
   "metadata": {},
   "outputs": [],
   "source": [
    "prod.head(5)"
   ]
  },
  {
   "cell_type": "code",
   "execution_count": null,
   "metadata": {},
   "outputs": [],
   "source": [
    "prod.loc[4][\"course_description_en\"]"
   ]
  },
  {
   "cell_type": "markdown",
   "metadata": {},
   "source": [
    "## Ratings\n",
    "* Tied to offering ID\n",
    "* NOT tied to registration ID\n",
    "* Separate survey ID\n",
    "* Learner classification\n",
    "* Learner department\n",
    "* Satisfaction (1-5)\n",
    "* **Can link to offering ID in registrations**"
   ]
  },
  {
   "cell_type": "code",
   "execution_count": null,
   "metadata": {},
   "outputs": [],
   "source": [
    "ratings = pd.read_csv(\"Ratings.csv\", sep=None)"
   ]
  },
  {
   "cell_type": "code",
   "execution_count": null,
   "metadata": {},
   "outputs": [],
   "source": [
    "ratings.head()"
   ]
  },
  {
   "cell_type": "markdown",
   "metadata": {},
   "source": [
    "## Overall Satisfaction\n",
    "* Survey ID to 10pt satisfaction scale\n",
    "* Can get survey ID from ratings"
   ]
  },
  {
   "cell_type": "code",
   "execution_count": null,
   "metadata": {},
   "outputs": [],
   "source": [
    "satisf = pd.read_csv(\"Overall Satisfaction.csv\", sep=None)"
   ]
  },
  {
   "cell_type": "code",
   "execution_count": null,
   "metadata": {},
   "outputs": [],
   "source": [
    "satisf.head()"
   ]
  },
  {
   "cell_type": "markdown",
   "metadata": {},
   "source": [
    "## Comments\n",
    "* Separate row per comment (multiple possible on a survey ID)\n",
    "* Should have datetime for comments\n",
    "* Easy to aggregate for course"
   ]
  },
  {
   "cell_type": "code",
   "execution_count": null,
   "metadata": {},
   "outputs": [],
   "source": [
    "comments = pd.read_csv(\"Comments.csv\", sep=None)"
   ]
  },
  {
   "cell_type": "code",
   "execution_count": null,
   "metadata": {},
   "outputs": [],
   "source": [
    "grouped_comments = comments.groupby(comments.survey_id)"
   ]
  },
  {
   "cell_type": "code",
   "execution_count": null,
   "metadata": {},
   "outputs": [],
   "source": [
    "grouped_comments.head()"
   ]
  },
  {
   "cell_type": "markdown",
   "metadata": {},
   "source": [
    "## Registrations\n",
    "* This is gold\n",
    "* Core info on what our users are doing\n",
    "* Need to pair with evaluation data\n",
    "* Time series\n",
    "* Departmental data\n",
    "* Language\n",
    "* Classification & Level (separate these)\n",
    "* Big enough for ML model\n",
    "* Need data on whether learner attended or completed learning\n",
    "* Some strangeness in combining online * in-person -- consider separating"
   ]
  },
  {
   "cell_type": "code",
   "execution_count": null,
   "metadata": {},
   "outputs": [],
   "source": [
    "reg = pd.read_csv(\"Registrations.csv\", sep=None)"
   ]
  },
  {
   "cell_type": "code",
   "execution_count": null,
   "metadata": {},
   "outputs": [],
   "source": [
    "reg.head()"
   ]
  },
  {
   "cell_type": "code",
   "execution_count": null,
   "metadata": {},
   "outputs": [],
   "source": [
    "courses = reg.groupby(reg.course_code).count()"
   ]
  },
  {
   "cell_type": "code",
   "execution_count": null,
   "metadata": {},
   "outputs": [],
   "source": [
    "courses.head()"
   ]
  },
  {
   "cell_type": "markdown",
   "metadata": {},
   "source": [
    "### Look at columns"
   ]
  },
  {
   "cell_type": "code",
   "execution_count": null,
   "metadata": {},
   "outputs": [],
   "source": [
    "i = 0\n",
    "\n",
    "for c in reg.columns:\n",
    "    print(i, c)\n",
    "    i+=1"
   ]
  },
  {
   "cell_type": "markdown",
   "metadata": {},
   "source": [
    "\n",
    "Thinking here:\n",
    "\n",
    "* learners are nodes {learner_id = 0, learner-classif, learner_language}\n",
    "* departments are nodes {billing_dept_name_en}\n",
    "* courses are nodes - display course name - data = course code, business type, learner_city_en\n",
    "* edge == took {learner -> course } {start_date, end_date, reg_status, no_show}\n",
    "* edge == belongs_to { learner -> department }\n",
    "* We should have registration ID tied to the ratings & comments\n",
    "* Missing data on results of learning - did they complete?\n",
    "* Probably separate online & in-person learning\n"
   ]
  },
  {
   "cell_type": "markdown",
   "metadata": {},
   "source": [
    "## Set up helper functions"
   ]
  },
  {
   "cell_type": "markdown",
   "metadata": {},
   "source": [
    "### Add Learner"
   ]
  },
  {
   "cell_type": "code",
   "execution_count": null,
   "metadata": {},
   "outputs": [],
   "source": [
    "# Add individual learner node\n",
    "def learner_add_or_update(G, learner_id, row):\n",
    "    \n",
    "    # Learner node\n",
    "    if G.has_node(learner_id):\n",
    "        G.nodes[learner_id][\"count\"] += 1\n",
    "        \n",
    "        # Update end_date if later than current (pushes back if later)\n",
    "        current = datetime.strptime(G.nodes[learner_id][\"end_date\"], '%Y-%m-%d %H:%M:%S')\n",
    "        new = datetime.strptime(row.end_date, '%Y-%m-%d %H:%M:%S')\n",
    "        \n",
    "        if new > current:\n",
    "            G.nodes[learner_id][\"end_date\"] = row.end_date\n",
    "    else:\n",
    "        # Add Learner node\n",
    "        G.add_node(\n",
    "            learner_id,\n",
    "            name=row.learner_classif, \n",
    "            bipartite=\"learner\",\n",
    "            province=row.learner_province_en,\n",
    "            start_date=row.start_date, \n",
    "            end_date=row.end_date,\n",
    "            department=row.billing_dept_name_en,\n",
    "            count=1)"
   ]
  },
  {
   "cell_type": "markdown",
   "metadata": {},
   "source": [
    "### Add Department"
   ]
  },
  {
   "cell_type": "code",
   "execution_count": null,
   "metadata": {},
   "outputs": [],
   "source": [
    "def department_add_or_update(G, row):\n",
    "    # Department node\n",
    "    if G.has_node(row.billing_dept_name_en):\n",
    "        G.nodes[row.billing_dept_name_en][\"count\"] += 1\n",
    "        G.nodes[row.billing_dept_name_en][\"no_show\"] += 1\n",
    "    else:\n",
    "        G.add_node(\n",
    "            row.billing_dept_name_en, \n",
    "            name=row.billing_dept_name_en, \n",
    "            bipartite=\"department\",\n",
    "            count=1,\n",
    "            no_show=row.no_show)"
   ]
  },
  {
   "cell_type": "markdown",
   "metadata": {},
   "source": [
    "### Add Course"
   ]
  },
  {
   "cell_type": "code",
   "execution_count": null,
   "metadata": {},
   "outputs": [],
   "source": [
    "def course_add_or_update(G, row):\n",
    "    # Course node - separate registrations update count\n",
    "    # Tracks number of offerings by ID and total count\n",
    "    if G.has_node(row.course_title_en):\n",
    "        G.nodes[row.course_title_en][\"count\"] += 1\n",
    "        G.nodes[row.course_title_en][\"no_show\"] += 1\n",
    "        \n",
    "\n",
    "    else:\n",
    "        G.add_node(\n",
    "            row.course_title_en,\n",
    "            offerings=[row.offering_id],\n",
    "            offering_count=1,\n",
    "            course_code=row.course_code,\n",
    "            province=row.offering_province_en,\n",
    "            business_type=row.business_type,\n",
    "            start_date=row.start_date, \n",
    "            end_date=row.end_date,\n",
    "            bipartite=\"course\",\n",
    "            no_show=row.no_show,\n",
    "            count=1)"
   ]
  },
  {
   "cell_type": "markdown",
   "metadata": {},
   "source": [
    "### Add Offering"
   ]
  },
  {
   "cell_type": "code",
   "execution_count": null,
   "metadata": {},
   "outputs": [],
   "source": [
    "def offering_add_or_update(G, row):\n",
    "    # Offering node - separate registrations update count\n",
    "    # May have multiple offerings for a single course tracked as separate nodes\n",
    "    if G.has_node(row.offering_id):\n",
    "        G.nodes[row.offering_id][\"count\"] += 1\n",
    "        G.nodes[row.offer][\"no_show\"] += 1\n",
    "\n",
    "    else:\n",
    "        G.add_node(\n",
    "            row.offering_id,\n",
    "            name=row.course_title_en,\n",
    "            course_code=row.course_code,\n",
    "            city=row.offering_city_en,\n",
    "            province=row.offering_province_en,\n",
    "            business_type=row.business_type,\n",
    "            start_date=row.start_date, \n",
    "            end_date=row.end_date,\n",
    "            bipartite=\"course\",\n",
    "            no_show=row.no_show,\n",
    "            count=1)"
   ]
  },
  {
   "cell_type": "markdown",
   "metadata": {},
   "source": [
    "### Add Learner to Course"
   ]
  },
  {
   "cell_type": "code",
   "execution_count": null,
   "metadata": {},
   "outputs": [],
   "source": [
    "def add_learner_to_course_edge(G, learner_id, row):\n",
    "    \n",
    "    # Learner to Course edge\n",
    "    if not G.has_edge(learner_id, row.course_title_en):\n",
    "        # Learners took courses\n",
    "        G.add_edge(\n",
    "            learner_id,\n",
    "            row.course_title_en,\n",
    "            offering=row.offering_id,\n",
    "            reg_id=row.reg_id,\n",
    "            edge_type=\"took\",\n",
    "            status=row.reg_status,\n",
    "            no_show=row.no_show,\n",
    "            start_date=row.start_date, \n",
    "            end_date=row.end_date,\n",
    "            weight=1)\n",
    "    else:\n",
    "        G.edges[learner_id, row.course_title_en][\"weight\"]+=1\n",
    "        G.edges[learner_id, row.course_title_en][\"no_show\"]+=row.no_show"
   ]
  },
  {
   "cell_type": "markdown",
   "metadata": {},
   "source": [
    "### Add Learner to Offering"
   ]
  },
  {
   "cell_type": "code",
   "execution_count": null,
   "metadata": {},
   "outputs": [],
   "source": [
    "def add_learner_to_offering_edge(G, learner_id, row):\n",
    "    \n",
    "    # Learner to Course edge\n",
    "    if not G.has_edge(learner_id, row.offering_id):\n",
    "        # Learners took courses\n",
    "        G.add_edge(\n",
    "            learner_id,\n",
    "            row.offering_id,\n",
    "            reg_id=row.reg_id,\n",
    "            edge_type=\"took\",\n",
    "            status=row.reg_status,\n",
    "            no_show=row.no_show,\n",
    "            start_date=row.start_date, \n",
    "            end_date=row.end_date,\n",
    "            weight=1)\n",
    "    else:\n",
    "        G.edges[learner_id, row.offering_id][\"weight\"]+=1\n",
    "        G.edges[learner_id, row.offering_id][\"no_show\"]+=row.no_show"
   ]
  },
  {
   "cell_type": "markdown",
   "metadata": {},
   "source": [
    "### Add Learner to Department"
   ]
  },
  {
   "cell_type": "code",
   "execution_count": null,
   "metadata": {},
   "outputs": [],
   "source": [
    "def add_learner_to_department_edge(G, learner_id, row):\n",
    "    # Learner to department edge\n",
    "    if not G.has_edge(learner_id, row.billing_dept_name_en):\n",
    "        # Learners belong to departments\n",
    "        G.add_edge(\n",
    "            learner_id,\n",
    "            row.billing_dept_name_en,\n",
    "            edge_type=\"belongs_to\",\n",
    "            weight=1)\n",
    "    else:\n",
    "        G.edges[learner_id, row.billing_dept_name_en][\"weight\"]+=1"
   ]
  },
  {
   "cell_type": "markdown",
   "metadata": {},
   "source": [
    "### Generate LDC (Learner, Department, Course) Graph"
   ]
  },
  {
   "cell_type": "code",
   "execution_count": null,
   "metadata": {},
   "outputs": [],
   "source": [
    "# Generate a graph with learners, departments and courses\n",
    "# Call:\n",
    "# generate_LDC_registrations_graph(reg, \"test_file_1\", aggregate_learners=\"no\")\n",
    "# Aggregate learner options are \"no\" or default -- individual nodes (No aggregation)\n",
    "# \"class_level\" -- nodes by same department + classification + level\n",
    "# \"class_only\" -- notes by same department + classification (Max aggregation)\n",
    "\n",
    "def generate_LDC_registrations_graph(reg, filename, aggregate_learners=\"no\"):\n",
    "    \n",
    "    G = nx.DiGraph()\n",
    "    \n",
    "    for row in reg.itertuples():\n",
    "        \n",
    "        # Set learner_id to appropriate level of aggregation\n",
    "        if aggregate_learners == \"class_level\" :\n",
    "            bc = row.billing_dept_code\n",
    "            lc = row.learner_classif.replace(\" \", \"\")\n",
    "            learner_id = f\"{bc}-{lc}\"\n",
    "        elif aggregate_learners == \"class_only\":\n",
    "            bc = row.billing_dept_code\n",
    "            lc = row.learner_classif.split(\" \")[0]\n",
    "            learner_id = f\"{bc}-{lc}\"\n",
    "        else:\n",
    "            learner_id = row.learner_id\n",
    "            \n",
    "        learner_add_or_update(G, learner_id, row)\n",
    "        department_add_or_update(G, row)\n",
    "        course_add_or_update(G, row)\n",
    "        \n",
    "        add_learner_node_to_course_edge(G, learner_id, row)\n",
    "        add_learner_node_to_department_edge(G, learner_id, row)\n",
    "        \n",
    "    nx.write_gexf(G, filename+\".gexf\")\n"
   ]
  },
  {
   "cell_type": "markdown",
   "metadata": {},
   "source": [
    "### Generate LC (Learner, Course) Graph"
   ]
  },
  {
   "cell_type": "code",
   "execution_count": null,
   "metadata": {},
   "outputs": [],
   "source": [
    "# Generate a graph with learners and courses\n",
    "\n",
    "# Call:\n",
    "# generate_LC_registrations_graph(reg, \"test_file_1\", aggregate_learners=\"no\")\n",
    "# Aggregate learner options are \"no\" or default -- individual nodes (No aggregation)\n",
    "# \"class_level\" -- nodes by same department + classification + level\n",
    "# \"class_only\" -- notes by same department + classification (Max aggregation)\n",
    "\n",
    "def generate_LC_registrations_graph(reg, filename, aggregate_learners=\"no\"):\n",
    "    \n",
    "    G = nx.DiGraph()\n",
    "    \n",
    "    for row in reg.itertuples():\n",
    "        \n",
    "        # Set learner_id to appropriate level of aggregation\n",
    "        if aggregate_learners == \"class_level\" :\n",
    "            bc = row.billing_dept_code\n",
    "            lc = row.learner_classif.replace(\" \", \"\")\n",
    "            learner_id = f\"{bc}-{lc}\"\n",
    "        elif aggregate_learners == \"class_only\":\n",
    "            bc = row.billing_dept_code\n",
    "            lc = row.learner_classif.split(\" \")[0]\n",
    "            learner_id = f\"{bc}-{lc}\"\n",
    "        else:\n",
    "            learner_id = row.learner_id\n",
    "            \n",
    "        learner_add_or_update(G, learner_id, row)\n",
    "        course_add_or_update_course(G, row)\n",
    "        \n",
    "        add_learner_node_to_course_edge(G, learner_id, row)\n",
    "        \n",
    "    nx.write_gexf(G, filename+\".gexf\")\n"
   ]
  },
  {
   "cell_type": "markdown",
   "metadata": {},
   "source": [
    "## Full Registrations Graph\n",
    "* Can do timeseries with each registration\n",
    "* Useful to have department in graphs for community detection\n",
    "* LOTS of nodes & edges"
   ]
  },
  {
   "cell_type": "code",
   "execution_count": null,
   "metadata": {},
   "outputs": [],
   "source": [
    "# Test full non-aggregated graph\n",
    "generate_LDC_registrations_graph(reg, \"test_file_2\")"
   ]
  },
  {
   "cell_type": "code",
   "execution_count": null,
   "metadata": {},
   "outputs": [],
   "source": [
    "# Test full aggregated graph\n",
    "generate_LDC_registrations_graph(reg, \"test_file_agg_2\", aggregate_learners=\"class_level\")"
   ]
  },
  {
   "cell_type": "code",
   "execution_count": null,
   "metadata": {},
   "outputs": [],
   "source": []
  },
  {
   "cell_type": "code",
   "execution_count": null,
   "metadata": {},
   "outputs": [],
   "source": []
  },
  {
   "cell_type": "markdown",
   "metadata": {},
   "source": [
    "## Individual dynamic no depts\n",
    "* Main difference from above is that no departments present & full dynamic setup"
   ]
  },
  {
   "cell_type": "code",
   "execution_count": null,
   "metadata": {},
   "outputs": [],
   "source": [
    "G = nx.DiGraph()"
   ]
  },
  {
   "cell_type": "code",
   "execution_count": null,
   "metadata": {},
   "outputs": [],
   "source": [
    "for row in reg.itertuples():\n",
    "    \n",
    "    # Learner registration node\n",
    "    G.add_node(\n",
    "        row.learner_id,\n",
    "        name=row.learner_classif, \n",
    "        bipartite=\"learner\",\n",
    "        province=row.learner_province_en,\n",
    "        start_date=row.start_date, \n",
    "        end_date=row.end_date,\n",
    "        department=row.billing_dept_name_en)\n",
    "    \n",
    "    # Course node\n",
    "    G.add_node(\n",
    "        row.course_title_en,\n",
    "        course_code=row.course_code,\n",
    "        business_type=row.business_type,\n",
    "        bipartite=\"course\")\n",
    "    \n",
    "    # Learners took courses\n",
    "    G.add_edge(\n",
    "        row.learner_id,\n",
    "        row.course_title_en,\n",
    "        reg_id=row.reg_id,\n",
    "        edge_type=\"took\",\n",
    "        status=row.reg_status,\n",
    "        no_show=row.no_show,\n",
    "        start_date=row.start_date, \n",
    "        end_date=row.end_date)"
   ]
  },
  {
   "cell_type": "code",
   "execution_count": null,
   "metadata": {},
   "outputs": [],
   "source": [
    "nx.write_gexf(G, \"dynamic_registrations.gexf\")"
   ]
  },
  {
   "cell_type": "markdown",
   "metadata": {},
   "source": [
    "### Thinking\n",
    "* Probably useful to start combining departments, classifications and add weights to edges to showcase use\n",
    "* Also issues with what happens during registration - use the registration ID as the edge uID?"
   ]
  },
  {
   "cell_type": "markdown",
   "metadata": {},
   "source": [
    "## Summary Graph\n",
    "* Combines registrations by department * classification\n",
    "* Dramatically reduces the number of nodes & edges\n",
    "* Loses a lot of granularity\n",
    "* Means that time series has low value\n",
    "* Still a lot of nodes"
   ]
  },
  {
   "cell_type": "code",
   "execution_count": null,
   "metadata": {},
   "outputs": [],
   "source": [
    "G = nx.DiGraph()"
   ]
  },
  {
   "cell_type": "code",
   "execution_count": null,
   "metadata": {},
   "outputs": [],
   "source": [
    "for row in reg.itertuples():\n",
    "    \n",
    "    bc = row.billing_dept_code\n",
    "    lc = row.learner_classif.replace(\" \", \"\")\n",
    "    \n",
    "    learner_id = f\"{bc}-{lc}\"\n",
    "    \n",
    "    \n",
    "    # Learner node\n",
    "    if G.has_node(learner_id):\n",
    "        G.nodes[learner_id][\"count\"] += 1\n",
    "    else:\n",
    "        # Add Learner node\n",
    "        G.add_node(\n",
    "            learner_id,\n",
    "            bipartite=\"learner\",\n",
    "            province=row.learner_province_en,\n",
    "            count=1)\n",
    "    \n",
    "    # Department node\n",
    "    if G.has_node(row.billing_dept_name_en):\n",
    "        G.nodes[row.billing_dept_name_en][\"count\"] += 1\n",
    "        G.nodes[row.billing_dept_name_en][\"no_show\"] += 1\n",
    "    else:\n",
    "        G.add_node(\n",
    "            row.billing_dept_name_en, \n",
    "            name=row.billing_dept_name_en, \n",
    "            bipartite=\"department\",\n",
    "            count=1,\n",
    "            no_show=row.no_show)\n",
    "    \n",
    "    # Course node\n",
    "    if G.has_node(row.course_title_en):\n",
    "        G.nodes[row.course_title_en][\"count\"] += 1\n",
    "        G.nodes[row.course_title_en][\"no_show\"] += 1\n",
    "\n",
    "    else:\n",
    "        G.add_node(\n",
    "            row.course_title_en,\n",
    "            course_code=row.course_code,\n",
    "            business_type=row.business_type,\n",
    "            bipartite=\"course\",\n",
    "            no_show=row.no_show,\n",
    "            count=1)\n",
    "    \n",
    "    # Learner to Course edge\n",
    "    if not G.has_edge(learner_id, row.course_title_en):\n",
    "        # Learners took courses\n",
    "        G.add_edge(\n",
    "            learner_id,\n",
    "            row.course_title_en,\n",
    "            reg_id=row.reg_id,\n",
    "            edge_type=\"took\",\n",
    "            status=row.reg_status,\n",
    "            no_show=row.no_show,\n",
    "            start_date=row.start_date, \n",
    "            end_date=row.end_date,\n",
    "            weight=1)\n",
    "    else:\n",
    "        G.edges[learner_id, row.course_title_en][\"weight\"]+=1\n",
    "        G.edges[learner_id, row.course_title_en][\"no_show\"]+=row.no_show\n",
    "\n",
    "    # Learner to department edge\n",
    "    if not G.has_edge(learner_id, row.billing_dept_name_en):\n",
    "        # Learners belong to departments\n",
    "        G.add_edge(\n",
    "            learner_id,\n",
    "            row.billing_dept_name_en,\n",
    "            edge_type=\"belongs_to\",\n",
    "            weight=1)\n",
    "    else:\n",
    "        G.edges[learner_id, row.billing_dept_name_en][\"weight\"]+=1"
   ]
  },
  {
   "cell_type": "code",
   "execution_count": null,
   "metadata": {},
   "outputs": [],
   "source": [
    "nx.write_gexf(G, \"summary_directed.gexf\")"
   ]
  },
  {
   "cell_type": "code",
   "execution_count": null,
   "metadata": {},
   "outputs": [],
   "source": []
  },
  {
   "cell_type": "markdown",
   "metadata": {},
   "source": [
    "## No department graph\n",
    "* As summary graph, but removes departments as nodes\n",
    "* Adds department to node attributes\n",
    "* Cleans up graph and overall weighting\n",
    "* Makes it harder to see which departments are part of which communities"
   ]
  },
  {
   "cell_type": "code",
   "execution_count": null,
   "metadata": {},
   "outputs": [],
   "source": [
    "G = nx.DiGraph()"
   ]
  },
  {
   "cell_type": "code",
   "execution_count": null,
   "metadata": {},
   "outputs": [],
   "source": [
    "for row in reg.itertuples():\n",
    "    \n",
    "    bc = row.billing_dept_code\n",
    "    lc = row.learner_classif.split(\" \")[0]\n",
    "    \n",
    "    learner_id = f\"{bc}-{lc}\"\n",
    "    \n",
    "    \n",
    "    # Learner node\n",
    "    if G.has_node(learner_id):\n",
    "        G.nodes[learner_id][\"count\"] += 1\n",
    "    else:\n",
    "        # Add Learner node\n",
    "        G.add_node(\n",
    "            learner_id,\n",
    "            bipartite=\"learner\",\n",
    "            province=row.learner_province_en,\n",
    "            department=row.billing_dept_code,\n",
    "            dept_simple=row.billing_dept_name_en,\n",
    "            count=1)\n",
    "    \n",
    "    # Course node\n",
    "    if G.has_node(row.course_title_en):\n",
    "        G.nodes[row.course_title_en][\"count\"] += 1\n",
    "        G.nodes[row.course_title_en][\"no_show\"] += 1\n",
    "\n",
    "    else:\n",
    "        G.add_node(\n",
    "            row.course_title_en,\n",
    "            course_code=row.course_code,\n",
    "            business_type=row.business_type,\n",
    "            bipartite=\"course\",\n",
    "            no_show=row.no_show,\n",
    "            count=1)\n",
    "    \n",
    "    # Learner to Course edge\n",
    "    if not G.has_edge(learner_id, row.course_title_en):\n",
    "        # Learners took courses\n",
    "        G.add_edge(\n",
    "            learner_id,\n",
    "            row.course_title_en,\n",
    "            reg_id=row.reg_id,\n",
    "            edge_type=\"took\",\n",
    "            status=row.reg_status,\n",
    "            no_show=row.no_show,\n",
    "            start_date=row.start_date, \n",
    "            end_date=row.end_date,\n",
    "            weight=1)\n",
    "    else:\n",
    "        G.edges[learner_id, row.course_title_en][\"weight\"]+=1\n",
    "        G.edges[learner_id, row.course_title_en][\"no_show\"]+=row.no_show"
   ]
  },
  {
   "cell_type": "code",
   "execution_count": null,
   "metadata": {},
   "outputs": [],
   "source": [
    "nx.write_gexf(G, \"no_dept_simple_class_summary.gexf\")"
   ]
  },
  {
   "cell_type": "code",
   "execution_count": null,
   "metadata": {},
   "outputs": [],
   "source": []
  }
 ],
 "metadata": {
  "kernelspec": {
   "display_name": "Python 3",
   "language": "python",
   "name": "python3"
  },
  "language_info": {
   "codemirror_mode": {
    "name": "ipython",
    "version": 3
   },
   "file_extension": ".py",
   "mimetype": "text/x-python",
   "name": "python",
   "nbconvert_exporter": "python",
   "pygments_lexer": "ipython3",
   "version": "3.7.3"
  }
 },
 "nbformat": 4,
 "nbformat_minor": 2
}
